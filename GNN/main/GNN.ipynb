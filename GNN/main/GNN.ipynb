{
 "cells": [
  {
   "cell_type": "code",
   "execution_count": 1,
   "metadata": {},
   "outputs": [
    {
     "name": "stdout",
     "output_type": "stream",
     "text": [
      "Requirement already satisfied: streamlit in c:\\users\\spsoft\\desktop\\langchain\\venv\\lib\\site-packages (1.44.0)Note: you may need to restart the kernel to use updated packages.\n",
      "\n",
      "Requirement already satisfied: altair<6,>=4.0 in c:\\users\\spsoft\\desktop\\langchain\\venv\\lib\\site-packages (from streamlit) (5.5.0)\n",
      "Requirement already satisfied: blinker<2,>=1.0.0 in c:\\users\\spsoft\\desktop\\langchain\\venv\\lib\\site-packages (from streamlit) (1.9.0)\n",
      "Requirement already satisfied: cachetools<6,>=4.0 in c:\\users\\spsoft\\desktop\\langchain\\venv\\lib\\site-packages (from streamlit) (5.5.2)\n",
      "Requirement already satisfied: click<9,>=7.0 in c:\\users\\spsoft\\desktop\\langchain\\venv\\lib\\site-packages (from streamlit) (8.1.8)\n",
      "Requirement already satisfied: numpy<3,>=1.23 in c:\\users\\spsoft\\desktop\\langchain\\venv\\lib\\site-packages (from streamlit) (2.2.4)\n",
      "Requirement already satisfied: packaging<25,>=20 in c:\\users\\spsoft\\desktop\\langchain\\venv\\lib\\site-packages (from streamlit) (24.2)\n",
      "Requirement already satisfied: pandas<3,>=1.4.0 in c:\\users\\spsoft\\desktop\\langchain\\venv\\lib\\site-packages (from streamlit) (2.2.3)\n",
      "Requirement already satisfied: pillow<12,>=7.1.0 in c:\\users\\spsoft\\desktop\\langchain\\venv\\lib\\site-packages (from streamlit) (11.1.0)\n",
      "Requirement already satisfied: protobuf<6,>=3.20 in c:\\users\\spsoft\\desktop\\langchain\\venv\\lib\\site-packages (from streamlit) (5.29.4)\n",
      "Requirement already satisfied: pyarrow>=7.0 in c:\\users\\spsoft\\desktop\\langchain\\venv\\lib\\site-packages (from streamlit) (19.0.1)\n",
      "Requirement already satisfied: requests<3,>=2.27 in c:\\users\\spsoft\\desktop\\langchain\\venv\\lib\\site-packages (from streamlit) (2.32.3)\n",
      "Requirement already satisfied: tenacity<10,>=8.1.0 in c:\\users\\spsoft\\desktop\\langchain\\venv\\lib\\site-packages (from streamlit) (9.0.0)\n",
      "Requirement already satisfied: toml<2,>=0.10.1 in c:\\users\\spsoft\\desktop\\langchain\\venv\\lib\\site-packages (from streamlit) (0.10.2)\n",
      "Requirement already satisfied: typing-extensions<5,>=4.4.0 in c:\\users\\spsoft\\desktop\\langchain\\venv\\lib\\site-packages (from streamlit) (4.12.2)\n",
      "Requirement already satisfied: watchdog<7,>=2.1.5 in c:\\users\\spsoft\\desktop\\langchain\\venv\\lib\\site-packages (from streamlit) (6.0.0)\n",
      "Requirement already satisfied: gitpython!=3.1.19,<4,>=3.0.7 in c:\\users\\spsoft\\desktop\\langchain\\venv\\lib\\site-packages (from streamlit) (3.1.44)\n",
      "Requirement already satisfied: pydeck<1,>=0.8.0b4 in c:\\users\\spsoft\\desktop\\langchain\\venv\\lib\\site-packages (from streamlit) (0.9.1)\n",
      "Requirement already satisfied: tornado<7,>=6.0.3 in c:\\users\\spsoft\\desktop\\langchain\\venv\\lib\\site-packages (from streamlit) (6.4.2)\n",
      "Requirement already satisfied: jinja2 in c:\\users\\spsoft\\desktop\\langchain\\venv\\lib\\site-packages (from altair<6,>=4.0->streamlit) (3.1.6)\n",
      "Requirement already satisfied: jsonschema>=3.0 in c:\\users\\spsoft\\desktop\\langchain\\venv\\lib\\site-packages (from altair<6,>=4.0->streamlit) (4.23.0)\n",
      "Requirement already satisfied: narwhals>=1.14.2 in c:\\users\\spsoft\\desktop\\langchain\\venv\\lib\\site-packages (from altair<6,>=4.0->streamlit) (1.32.0)\n",
      "Requirement already satisfied: colorama in c:\\users\\spsoft\\desktop\\langchain\\venv\\lib\\site-packages (from click<9,>=7.0->streamlit) (0.4.6)\n",
      "Requirement already satisfied: gitdb<5,>=4.0.1 in c:\\users\\spsoft\\desktop\\langchain\\venv\\lib\\site-packages (from gitpython!=3.1.19,<4,>=3.0.7->streamlit) (4.0.12)\n",
      "Requirement already satisfied: python-dateutil>=2.8.2 in c:\\users\\spsoft\\desktop\\langchain\\venv\\lib\\site-packages (from pandas<3,>=1.4.0->streamlit) (2.9.0.post0)\n",
      "Requirement already satisfied: pytz>=2020.1 in c:\\users\\spsoft\\desktop\\langchain\\venv\\lib\\site-packages (from pandas<3,>=1.4.0->streamlit) (2025.2)\n",
      "Requirement already satisfied: tzdata>=2022.7 in c:\\users\\spsoft\\desktop\\langchain\\venv\\lib\\site-packages (from pandas<3,>=1.4.0->streamlit) (2025.2)\n",
      "Requirement already satisfied: charset-normalizer<4,>=2 in c:\\users\\spsoft\\desktop\\langchain\\venv\\lib\\site-packages (from requests<3,>=2.27->streamlit) (3.4.1)\n",
      "Requirement already satisfied: idna<4,>=2.5 in c:\\users\\spsoft\\desktop\\langchain\\venv\\lib\\site-packages (from requests<3,>=2.27->streamlit) (3.10)\n",
      "Requirement already satisfied: urllib3<3,>=1.21.1 in c:\\users\\spsoft\\desktop\\langchain\\venv\\lib\\site-packages (from requests<3,>=2.27->streamlit) (2.3.0)\n",
      "Requirement already satisfied: certifi>=2017.4.17 in c:\\users\\spsoft\\desktop\\langchain\\venv\\lib\\site-packages (from requests<3,>=2.27->streamlit) (2025.1.31)\n",
      "Requirement already satisfied: smmap<6,>=3.0.1 in c:\\users\\spsoft\\desktop\\langchain\\venv\\lib\\site-packages (from gitdb<5,>=4.0.1->gitpython!=3.1.19,<4,>=3.0.7->streamlit) (5.0.2)\n",
      "Requirement already satisfied: MarkupSafe>=2.0 in c:\\users\\spsoft\\desktop\\langchain\\venv\\lib\\site-packages (from jinja2->altair<6,>=4.0->streamlit) (3.0.2)\n",
      "Requirement already satisfied: attrs>=22.2.0 in c:\\users\\spsoft\\desktop\\langchain\\venv\\lib\\site-packages (from jsonschema>=3.0->altair<6,>=4.0->streamlit) (25.3.0)\n",
      "Requirement already satisfied: jsonschema-specifications>=2023.03.6 in c:\\users\\spsoft\\desktop\\langchain\\venv\\lib\\site-packages (from jsonschema>=3.0->altair<6,>=4.0->streamlit) (2024.10.1)\n",
      "Requirement already satisfied: referencing>=0.28.4 in c:\\users\\spsoft\\desktop\\langchain\\venv\\lib\\site-packages (from jsonschema>=3.0->altair<6,>=4.0->streamlit) (0.36.2)\n",
      "Requirement already satisfied: rpds-py>=0.7.1 in c:\\users\\spsoft\\desktop\\langchain\\venv\\lib\\site-packages (from jsonschema>=3.0->altair<6,>=4.0->streamlit) (0.24.0)\n",
      "Requirement already satisfied: six>=1.5 in c:\\users\\spsoft\\desktop\\langchain\\venv\\lib\\site-packages (from python-dateutil>=2.8.2->pandas<3,>=1.4.0->streamlit) (1.17.0)\n"
     ]
    }
   ],
   "source": [
    "pip install streamlit"
   ]
  },
  {
   "cell_type": "code",
   "execution_count": 2,
   "metadata": {},
   "outputs": [
    {
     "name": "stdout",
     "output_type": "stream",
     "text": [
      "Requirement already satisfied: networkx in c:\\users\\spsoft\\desktop\\langchain\\venv\\lib\\site-packages (3.4.2)\n",
      "Note: you may need to restart the kernel to use updated packages.\n"
     ]
    }
   ],
   "source": [
    "pip install networkx"
   ]
  },
  {
   "cell_type": "code",
   "execution_count": 1,
   "metadata": {},
   "outputs": [],
   "source": [
    "import sqlite3\n",
    "import networkx as nx\n",
    "import matplotlib.pyplot as plt\n",
    "\n",
    "# Connect to SQLite database\n",
    "db_path = \"employee_management0.db\"  # Change to your DB file\n",
    "conn = sqlite3.connect(db_path)\n",
    "cursor = conn.cursor()"
   ]
  },
  {
   "cell_type": "markdown",
   "metadata": {},
   "source": [
    "**Access Schema and extract table names**"
   ]
  },
  {
   "cell_type": "code",
   "execution_count": 2,
   "metadata": {},
   "outputs": [],
   "source": [
    "def get_schema(db_path=\"employee_management0.db\"):\n",
    "    conn = sqlite3.connect(db_path)\n",
    "    cursor = conn.cursor()\n",
    "    \n",
    "    schema = {}\n",
    "    cursor.execute(\"SELECT name FROM sqlite_master WHERE type='table'\")\n",
    "    tables = cursor.fetchall()\n",
    "    \n",
    "    for table in tables:\n",
    "        table_name = table[0]\n",
    "        cursor.execute(f\"PRAGMA table_info({table_name})\")\n",
    "        columns = [row[1] for row in cursor.fetchall()]\n",
    "        schema[table_name] = columns\n",
    "    \n",
    "    conn.close()\n",
    "    return schema"
   ]
  },
  {
   "cell_type": "code",
   "execution_count": 3,
   "metadata": {},
   "outputs": [],
   "source": [
    "schema = get_schema()"
   ]
  },
  {
   "cell_type": "code",
   "execution_count": 4,
   "metadata": {},
   "outputs": [
    {
     "data": {
      "text/plain": [
       "{'Employees': ['EmpID', 'Name', 'DeptID', 'PositionID', 'HireDate'],\n",
       " 'Departments': ['DeptID', 'DeptName'],\n",
       " 'Positions': ['PositionID', 'Position_Name'],\n",
       " 'Salaries': ['SalaryID', 'EmpID', 'Amount', 'PayDate'],\n",
       " 'Benefits': ['BenefitID', 'EmpID', 'BenefitType', 'StartDate'],\n",
       " 'Projects': ['ProjectID', 'EmpID', 'Project_name', 'Budget'],\n",
       " 'Clients': ['ClientID', 'ProjectID', 'Client_Name', 'DeptID']}"
      ]
     },
     "execution_count": 4,
     "metadata": {},
     "output_type": "execute_result"
    }
   ],
   "source": [
    "schema"
   ]
  },
  {
   "cell_type": "markdown",
   "metadata": {},
   "source": [
    "**Access Schema and extract edges(Foreign keys)**"
   ]
  },
  {
   "cell_type": "code",
   "execution_count": 5,
   "metadata": {},
   "outputs": [],
   "source": [
    "# Extract edges from foreign key constraints\n",
    "# Using attention mechanism to assign higher weights to strong relationships\n",
    "\n",
    "def get_edges(db_path=\"employee_management0.db\"):\n",
    "    conn = sqlite3.connect(db_path)\n",
    "    cursor = conn.cursor()\n",
    "    table_indices = {table: idx for idx, table in enumerate(schema.keys())}\n",
    "    edges = []\n",
    "    edge_weights = []\n",
    "    \n",
    "    for table in schema.keys():\n",
    "        cursor.execute(f\"PRAGMA foreign_key_list({table})\")\n",
    "        fks = cursor.fetchall()\n",
    "        for fk in fks:\n",
    "            ref_table = fk[2]\n",
    "            if ref_table in table_indices:\n",
    "                edges.append((table_indices[table], table_indices[ref_table]))  # FK connection\n",
    "                edges.append((table_indices[ref_table], table_indices[table]))\n",
    "                edge_weights.extend([2.0, 2.0])  # Higher weight for strong relationships\n",
    "    \n",
    "    conn.close()\n",
    "    return edges, edge_weights"
   ]
  },
  {
   "cell_type": "code",
   "execution_count": 6,
   "metadata": {},
   "outputs": [],
   "source": [
    "edges, edge_weights = get_edges()"
   ]
  },
  {
   "cell_type": "code",
   "execution_count": 7,
   "metadata": {},
   "outputs": [
    {
     "data": {
      "text/plain": [
       "[(1, 0),\n",
       " (0, 1),\n",
       " (2, 0),\n",
       " (0, 2),\n",
       " (3, 0),\n",
       " (0, 3),\n",
       " (4, 0),\n",
       " (0, 4),\n",
       " (5, 0),\n",
       " (0, 5),\n",
       " (6, 5),\n",
       " (5, 6),\n",
       " (6, 1),\n",
       " (1, 6)]"
      ]
     },
     "execution_count": 7,
     "metadata": {},
     "output_type": "execute_result"
    }
   ],
   "source": [
    "edges"
   ]
  },
  {
   "cell_type": "code",
   "execution_count": 8,
   "metadata": {},
   "outputs": [
    {
     "data": {
      "text/plain": [
       "[2.0, 2.0, 2.0, 2.0, 2.0, 2.0, 2.0, 2.0, 2.0, 2.0, 2.0, 2.0, 2.0, 2.0]"
      ]
     },
     "execution_count": 8,
     "metadata": {},
     "output_type": "execute_result"
    }
   ],
   "source": [
    "edge_weights"
   ]
  },
  {
   "cell_type": "code",
   "execution_count": 9,
   "metadata": {},
   "outputs": [],
   "source": [
    "import torch\n",
    "# Detect GPU if present\n",
    "device = torch.device(\"cuda\" if torch.cuda.is_available() else \"cpu\")"
   ]
  },
  {
   "cell_type": "code",
   "execution_count": 10,
   "metadata": {},
   "outputs": [],
   "source": [
    "edge_index = torch.tensor(edges, dtype=torch.long).t().contiguous().to(device)\n",
    "edge_weights = torch.tensor(edge_weights, dtype=torch.float).to(device)"
   ]
  },
  {
   "cell_type": "markdown",
   "metadata": {},
   "source": [
    "**Visual Representation of Schema in Graph**"
   ]
  },
  {
   "cell_type": "code",
   "execution_count": null,
   "metadata": {},
   "outputs": [
    {
     "ename": "TypeError",
     "evalue": "DiGraph.add_nodes_from() missing 1 required positional argument: 'nodes_for_adding'",
     "output_type": "error",
     "traceback": [
      "\u001b[1;31m---------------------------------------------------------------------------\u001b[0m",
      "\u001b[1;31mTypeError\u001b[0m                                 Traceback (most recent call last)",
      "Cell \u001b[1;32mIn[13], line 2\u001b[0m\n\u001b[0;32m      1\u001b[0m G \u001b[38;5;241m=\u001b[39m nx\u001b[38;5;241m.\u001b[39mDiGraph()\n\u001b[1;32m----> 2\u001b[0m \u001b[43mG\u001b[49m\u001b[38;5;241;43m.\u001b[39;49m\u001b[43madd_nodes_from\u001b[49m\u001b[43m(\u001b[49m\u001b[43m)\u001b[49m\n\u001b[0;32m      3\u001b[0m G\u001b[38;5;241m.\u001b[39madd_edges_from(edges)\n\u001b[0;32m      5\u001b[0m plt\u001b[38;5;241m.\u001b[39mfigure(figsize\u001b[38;5;241m=\u001b[39m(\u001b[38;5;241m8\u001b[39m, \u001b[38;5;241m6\u001b[39m))\n",
      "\u001b[1;31mTypeError\u001b[0m: DiGraph.add_nodes_from() missing 1 required positional argument: 'nodes_for_adding'"
     ]
    }
   ],
   "source": [
    "# G = nx.DiGraph()\n",
    "# G.add_nodes_from()\n",
    "# G.add_edges_from(edges)\n",
    "\n",
    "# plt.figure(figsize=(8, 6))\n",
    "# pos = nx.spring_layout(G, seed=42)\n",
    "# nx.draw(G, pos, with_labels=True, node_color='lightblue', edge_color='gray', node_size=3000, font_size=10, font_weight='bold')\n",
    "# plt.title(\"Database Schema as Graph\")\n",
    "# plt.show()"
   ]
  },
  {
   "cell_type": "code",
   "execution_count": 14,
   "metadata": {},
   "outputs": [
    {
     "name": "stdout",
     "output_type": "stream",
     "text": [
      "Requirement already satisfied: torch_geometric in c:\\users\\spsoft\\desktop\\langchain\\venv\\lib\\site-packages (2.6.1)Note: you may need to restart the kernel to use updated packages.\n",
      "\n",
      "Requirement already satisfied: aiohttp in c:\\users\\spsoft\\desktop\\langchain\\venv\\lib\\site-packages (from torch_geometric) (3.11.14)\n",
      "Requirement already satisfied: fsspec in c:\\users\\spsoft\\desktop\\langchain\\venv\\lib\\site-packages (from torch_geometric) (2025.3.0)\n",
      "Requirement already satisfied: jinja2 in c:\\users\\spsoft\\desktop\\langchain\\venv\\lib\\site-packages (from torch_geometric) (3.1.6)\n",
      "Requirement already satisfied: numpy in c:\\users\\spsoft\\desktop\\langchain\\venv\\lib\\site-packages (from torch_geometric) (2.2.4)\n",
      "Requirement already satisfied: psutil>=5.8.0 in c:\\users\\spsoft\\desktop\\langchain\\venv\\lib\\site-packages (from torch_geometric) (7.0.0)\n",
      "Requirement already satisfied: pyparsing in c:\\users\\spsoft\\desktop\\langchain\\venv\\lib\\site-packages (from torch_geometric) (3.2.3)\n",
      "Requirement already satisfied: requests in c:\\users\\spsoft\\desktop\\langchain\\venv\\lib\\site-packages (from torch_geometric) (2.32.3)\n",
      "Requirement already satisfied: tqdm in c:\\users\\spsoft\\desktop\\langchain\\venv\\lib\\site-packages (from torch_geometric) (4.67.1)\n",
      "Requirement already satisfied: aiohappyeyeballs>=2.3.0 in c:\\users\\spsoft\\desktop\\langchain\\venv\\lib\\site-packages (from aiohttp->torch_geometric) (2.6.1)\n",
      "Requirement already satisfied: aiosignal>=1.1.2 in c:\\users\\spsoft\\desktop\\langchain\\venv\\lib\\site-packages (from aiohttp->torch_geometric) (1.3.2)\n",
      "Requirement already satisfied: async-timeout<6.0,>=4.0 in c:\\users\\spsoft\\desktop\\langchain\\venv\\lib\\site-packages (from aiohttp->torch_geometric) (4.0.3)\n",
      "Requirement already satisfied: attrs>=17.3.0 in c:\\users\\spsoft\\desktop\\langchain\\venv\\lib\\site-packages (from aiohttp->torch_geometric) (25.3.0)\n",
      "Requirement already satisfied: frozenlist>=1.1.1 in c:\\users\\spsoft\\desktop\\langchain\\venv\\lib\\site-packages (from aiohttp->torch_geometric) (1.5.0)\n",
      "Requirement already satisfied: multidict<7.0,>=4.5 in c:\\users\\spsoft\\desktop\\langchain\\venv\\lib\\site-packages (from aiohttp->torch_geometric) (6.2.0)\n",
      "Requirement already satisfied: propcache>=0.2.0 in c:\\users\\spsoft\\desktop\\langchain\\venv\\lib\\site-packages (from aiohttp->torch_geometric) (0.3.0)\n",
      "Requirement already satisfied: yarl<2.0,>=1.17.0 in c:\\users\\spsoft\\desktop\\langchain\\venv\\lib\\site-packages (from aiohttp->torch_geometric) (1.18.3)\n",
      "Requirement already satisfied: MarkupSafe>=2.0 in c:\\users\\spsoft\\desktop\\langchain\\venv\\lib\\site-packages (from jinja2->torch_geometric) (3.0.2)\n",
      "Requirement already satisfied: charset-normalizer<4,>=2 in c:\\users\\spsoft\\desktop\\langchain\\venv\\lib\\site-packages (from requests->torch_geometric) (3.4.1)\n",
      "Requirement already satisfied: idna<4,>=2.5 in c:\\users\\spsoft\\desktop\\langchain\\venv\\lib\\site-packages (from requests->torch_geometric) (3.10)\n",
      "Requirement already satisfied: urllib3<3,>=1.21.1 in c:\\users\\spsoft\\desktop\\langchain\\venv\\lib\\site-packages (from requests->torch_geometric) (2.3.0)\n",
      "Requirement already satisfied: certifi>=2017.4.17 in c:\\users\\spsoft\\desktop\\langchain\\venv\\lib\\site-packages (from requests->torch_geometric) (2025.1.31)\n",
      "Requirement already satisfied: colorama in c:\\users\\spsoft\\desktop\\langchain\\venv\\lib\\site-packages (from tqdm->torch_geometric) (0.4.6)\n",
      "Requirement already satisfied: typing-extensions>=4.1.0 in c:\\users\\spsoft\\desktop\\langchain\\venv\\lib\\site-packages (from multidict<7.0,>=4.5->aiohttp->torch_geometric) (4.12.2)\n"
     ]
    }
   ],
   "source": [
    "pip install torch_geometric"
   ]
  },
  {
   "cell_type": "code",
   "execution_count": 15,
   "metadata": {},
   "outputs": [
    {
     "name": "stdout",
     "output_type": "stream",
     "text": [
      "Requirement already satisfied: sentence_transformers in c:\\users\\spsoft\\desktop\\langchain\\venv\\lib\\site-packages (3.4.1)Note: you may need to restart the kernel to use updated packages.\n",
      "\n",
      "Requirement already satisfied: transformers<5.0.0,>=4.41.0 in c:\\users\\spsoft\\desktop\\langchain\\venv\\lib\\site-packages (from sentence_transformers) (4.50.0)\n",
      "Requirement already satisfied: tqdm in c:\\users\\spsoft\\desktop\\langchain\\venv\\lib\\site-packages (from sentence_transformers) (4.67.1)\n",
      "Requirement already satisfied: torch>=1.11.0 in c:\\users\\spsoft\\desktop\\langchain\\venv\\lib\\site-packages (from sentence_transformers) (2.6.0)\n",
      "Requirement already satisfied: scikit-learn in c:\\users\\spsoft\\desktop\\langchain\\venv\\lib\\site-packages (from sentence_transformers) (1.6.1)\n",
      "Requirement already satisfied: scipy in c:\\users\\spsoft\\desktop\\langchain\\venv\\lib\\site-packages (from sentence_transformers) (1.15.2)\n",
      "Requirement already satisfied: huggingface-hub>=0.20.0 in c:\\users\\spsoft\\desktop\\langchain\\venv\\lib\\site-packages (from sentence_transformers) (0.29.3)\n",
      "Requirement already satisfied: Pillow in c:\\users\\spsoft\\desktop\\langchain\\venv\\lib\\site-packages (from sentence_transformers) (11.1.0)\n",
      "Requirement already satisfied: filelock in c:\\users\\spsoft\\desktop\\langchain\\venv\\lib\\site-packages (from huggingface-hub>=0.20.0->sentence_transformers) (3.18.0)\n",
      "Requirement already satisfied: fsspec>=2023.5.0 in c:\\users\\spsoft\\desktop\\langchain\\venv\\lib\\site-packages (from huggingface-hub>=0.20.0->sentence_transformers) (2025.3.0)\n",
      "Requirement already satisfied: packaging>=20.9 in c:\\users\\spsoft\\desktop\\langchain\\venv\\lib\\site-packages (from huggingface-hub>=0.20.0->sentence_transformers) (24.2)\n",
      "Requirement already satisfied: pyyaml>=5.1 in c:\\users\\spsoft\\desktop\\langchain\\venv\\lib\\site-packages (from huggingface-hub>=0.20.0->sentence_transformers) (6.0.2)\n",
      "Requirement already satisfied: requests in c:\\users\\spsoft\\desktop\\langchain\\venv\\lib\\site-packages (from huggingface-hub>=0.20.0->sentence_transformers) (2.32.3)\n",
      "Requirement already satisfied: typing-extensions>=3.7.4.3 in c:\\users\\spsoft\\desktop\\langchain\\venv\\lib\\site-packages (from huggingface-hub>=0.20.0->sentence_transformers) (4.12.2)\n",
      "Requirement already satisfied: networkx in c:\\users\\spsoft\\desktop\\langchain\\venv\\lib\\site-packages (from torch>=1.11.0->sentence_transformers) (3.4.2)\n",
      "Requirement already satisfied: jinja2 in c:\\users\\spsoft\\desktop\\langchain\\venv\\lib\\site-packages (from torch>=1.11.0->sentence_transformers) (3.1.6)\n",
      "Requirement already satisfied: sympy==1.13.1 in c:\\users\\spsoft\\desktop\\langchain\\venv\\lib\\site-packages (from torch>=1.11.0->sentence_transformers) (1.13.1)\n",
      "Requirement already satisfied: mpmath<1.4,>=1.1.0 in c:\\users\\spsoft\\desktop\\langchain\\venv\\lib\\site-packages (from sympy==1.13.1->torch>=1.11.0->sentence_transformers) (1.3.0)\n",
      "Requirement already satisfied: colorama in c:\\users\\spsoft\\desktop\\langchain\\venv\\lib\\site-packages (from tqdm->sentence_transformers) (0.4.6)\n",
      "Requirement already satisfied: numpy>=1.17 in c:\\users\\spsoft\\desktop\\langchain\\venv\\lib\\site-packages (from transformers<5.0.0,>=4.41.0->sentence_transformers) (2.2.4)\n",
      "Requirement already satisfied: regex!=2019.12.17 in c:\\users\\spsoft\\desktop\\langchain\\venv\\lib\\site-packages (from transformers<5.0.0,>=4.41.0->sentence_transformers) (2024.11.6)\n",
      "Requirement already satisfied: tokenizers<0.22,>=0.21 in c:\\users\\spsoft\\desktop\\langchain\\venv\\lib\\site-packages (from transformers<5.0.0,>=4.41.0->sentence_transformers) (0.21.1)\n",
      "Requirement already satisfied: safetensors>=0.4.3 in c:\\users\\spsoft\\desktop\\langchain\\venv\\lib\\site-packages (from transformers<5.0.0,>=4.41.0->sentence_transformers) (0.5.3)\n",
      "Requirement already satisfied: joblib>=1.2.0 in c:\\users\\spsoft\\desktop\\langchain\\venv\\lib\\site-packages (from scikit-learn->sentence_transformers) (1.4.2)\n",
      "Requirement already satisfied: threadpoolctl>=3.1.0 in c:\\users\\spsoft\\desktop\\langchain\\venv\\lib\\site-packages (from scikit-learn->sentence_transformers) (3.6.0)\n",
      "Requirement already satisfied: MarkupSafe>=2.0 in c:\\users\\spsoft\\desktop\\langchain\\venv\\lib\\site-packages (from jinja2->torch>=1.11.0->sentence_transformers) (3.0.2)\n",
      "Requirement already satisfied: charset-normalizer<4,>=2 in c:\\users\\spsoft\\desktop\\langchain\\venv\\lib\\site-packages (from requests->huggingface-hub>=0.20.0->sentence_transformers) (3.4.1)\n",
      "Requirement already satisfied: idna<4,>=2.5 in c:\\users\\spsoft\\desktop\\langchain\\venv\\lib\\site-packages (from requests->huggingface-hub>=0.20.0->sentence_transformers) (3.10)\n",
      "Requirement already satisfied: urllib3<3,>=1.21.1 in c:\\users\\spsoft\\desktop\\langchain\\venv\\lib\\site-packages (from requests->huggingface-hub>=0.20.0->sentence_transformers) (2.3.0)\n",
      "Requirement already satisfied: certifi>=2017.4.17 in c:\\users\\spsoft\\desktop\\langchain\\venv\\lib\\site-packages (from requests->huggingface-hub>=0.20.0->sentence_transformers) (2025.1.31)\n"
     ]
    }
   ],
   "source": [
    "pip install sentence_transformers"
   ]
  },
  {
   "cell_type": "code",
   "execution_count": 11,
   "metadata": {},
   "outputs": [
    {
     "name": "stderr",
     "output_type": "stream",
     "text": [
      "c:\\Users\\SPSOFT\\Desktop\\langchain\\venv\\lib\\site-packages\\tqdm\\auto.py:21: TqdmWarning: IProgress not found. Please update jupyter and ipywidgets. See https://ipywidgets.readthedocs.io/en/stable/user_install.html\n",
      "  from .autonotebook import tqdm as notebook_tqdm\n"
     ]
    }
   ],
   "source": [
    "import torch.nn.functional as F\n",
    "from torch_geometric.data import Data\n",
    "from torch_geometric.nn import GCNConv # For Graph Convolutional Networks\n",
    "from functools import lru_cache\n",
    "from sentence_transformers import SentenceTransformer # For prompt embeddings"
   ]
  },
  {
   "cell_type": "code",
   "execution_count": 12,
   "metadata": {},
   "outputs": [],
   "source": [
    "sentence_model = SentenceTransformer('all-MiniLM-L6-v2').to(device)"
   ]
  },
  {
   "cell_type": "code",
   "execution_count": 13,
   "metadata": {},
   "outputs": [],
   "source": [
    "@lru_cache(maxsize=500)\n",
    "def encode_text(text):\n",
    "    return sentence_model.encode(text, convert_to_tensor=True, show_progress_bar=False).to(device)"
   ]
  },
  {
   "cell_type": "code",
   "execution_count": 14,
   "metadata": {},
   "outputs": [],
   "source": [
    "table_embeddings = {\n",
    "    table: encode_text(table + \" \" + \" \".join(schema[table]) + \" \" + \" \".join([f\"{col}:{table}\" for col in schema[table]])) \n",
    "    for table in schema.keys()\n",
    "}"
   ]
  },
  {
   "cell_type": "code",
   "execution_count": 15,
   "metadata": {},
   "outputs": [],
   "source": [
    "table_names = list(schema.keys()) # extract table names\n",
    "table_features = torch.stack([table_embeddings[table] for table in table_names]).to(device) # stack table embeddings"
   ]
  },
  {
   "cell_type": "code",
   "execution_count": 16,
   "metadata": {},
   "outputs": [
    {
     "data": {
      "text/plain": [
       "['Employees',\n",
       " 'Departments',\n",
       " 'Positions',\n",
       " 'Salaries',\n",
       " 'Benefits',\n",
       " 'Projects',\n",
       " 'Clients']"
      ]
     },
     "execution_count": 16,
     "metadata": {},
     "output_type": "execute_result"
    }
   ],
   "source": [
    "table_names"
   ]
  },
  {
   "cell_type": "code",
   "execution_count": 17,
   "metadata": {},
   "outputs": [
    {
     "data": {
      "text/plain": [
       "tensor([[-0.0857,  0.0031, -0.0017,  ...,  0.0759,  0.0812,  0.0580],\n",
       "        [-0.0121, -0.0254,  0.0146,  ...,  0.0501,  0.0601,  0.0289],\n",
       "        [-0.0011,  0.0581, -0.0478,  ..., -0.0079,  0.0382,  0.0968],\n",
       "        ...,\n",
       "        [-0.0435,  0.0859,  0.0298,  ...,  0.0734,  0.0539,  0.0588],\n",
       "        [-0.0033,  0.0651, -0.0493,  ...,  0.0210, -0.0130,  0.0527],\n",
       "        [-0.0145,  0.0323, -0.0312,  ...,  0.0843, -0.0037,  0.0502]])"
      ]
     },
     "execution_count": 17,
     "metadata": {},
     "output_type": "execute_result"
    }
   ],
   "source": [
    "table_features"
   ]
  },
  {
   "cell_type": "markdown",
   "metadata": {},
   "source": [
    "**GCN Model building**"
   ]
  },
  {
   "cell_type": "code",
   "execution_count": 18,
   "metadata": {},
   "outputs": [],
   "source": [
    "# Learning embeddings for database tables based on their connections (foreign keys).\n",
    "# Propagates information across the database schema graph"
   ]
  },
  {
   "cell_type": "code",
   "execution_count": 19,
   "metadata": {},
   "outputs": [],
   "source": [
    "class GCN_TABLE_ENCODER(torch.nn.Module): # from Pytorch Neural network module\n",
    "    def __init__(self, input_dim, hidden_dim, output_dim):\n",
    "        super(GCN_TABLE_ENCODER, self).__init__()\n",
    "        self.conv1 = GCNConv(input_dim, hidden_dim) # 1st GCN layer\n",
    "        self.conv2 = GCNConv(hidden_dim, output_dim) # 2nd GCN layer and final layer\n",
    "        #input_dim = table embedding\n",
    "        #hidden_dim = intermediate layer\n",
    "        # output_dim = final embedding for each table        \n",
    "    def forward(self, x, edge_index, edge_weight=None): # data flow\n",
    "        x = self.conv1(x, edge_index, edge_weight)\n",
    "        x = F.relu(x)\n",
    "        x = F.dropout(x, p=0.2, training=self.training) # dropping down 20% of the neurons to avoid overfitting\n",
    "        x = self.conv2(x, edge_index, edge_weight) # final layer refines the table embeddings based on graph connections.\n",
    "        return x\n",
    "        # x node features (table embeddings)\n",
    "        # edge_index = graph structure (table connectivity via foreign keys)\n",
    "        # edge_weight = attention weights for each edge"
   ]
  },
  {
   "cell_type": "code",
   "execution_count": 20,
   "metadata": {},
   "outputs": [],
   "source": [
    "class QueryTableMatcher(torch.nn.Module):\n",
    "    def __init__(self, query_dim, table_dim, hidden_dim, output_dim):\n",
    "        super(QueryTableMatcher, self).__init__()\n",
    "        self.query_encoder = torch.nn.Sequential(\n",
    "            torch.nn.Linear(query_dim, hidden_dim),\n",
    "            torch.nn.ReLU(),\n",
    "            torch.nn.Dropout(0.2),\n",
    "            torch.nn.Linear(hidden_dim, hidden_dim)\n",
    "        )\n",
    "        self.table_encoder = GCN_TABLE_ENCODER(table_dim, hidden_dim, hidden_dim)\n",
    "        self.attention = torch.nn.Linear(hidden_dim, hidden_dim)\n",
    "        self.output_layer = torch.nn.Linear(hidden_dim, output_dim)\n",
    "        \n",
    "    def forward(self, query_emb, table_feats, edge_index, edge_weight=None):\n",
    "        query_hidden = self.query_encoder(query_emb)\n",
    "        table_hidden = self.table_encoder(table_feats, edge_index, edge_weight)\n",
    "        \n",
    "        query_attn = self.attention(query_hidden).unsqueeze(1)\n",
    "        table_hidden_t = table_hidden.unsqueeze(0).repeat(query_emb.size(0), 1, 1)\n",
    "        \n",
    "        scores = torch.bmm(query_attn, table_hidden_t.transpose(1, 2)).squeeze(1)\n",
    "        return torch.sigmoid(scores)"
   ]
  },
  {
   "cell_type": "code",
   "execution_count": 21,
   "metadata": {},
   "outputs": [],
   "source": [
    "# Training data\n",
    "query_table_mapping = [\n",
    "    (\"Retrieve all employee names and their IDs\", [\"Employees\"]),\n",
    "    (\"List all department names and their IDs\", [\"Departments\"]),\n",
    "    (\"Show all positions and their respective titles\", [\"Positions\"]),\n",
    "    (\"Get the salary details of each employee\", [\"Salaries\", \"Employees\"]),\n",
    "    (\"Find all employees and their respective departments\", [\"Employees\", \"Departments\"]),\n",
    "    (\"List employees along with their positions\", [\"Employees\", \"Positions\"]),\n",
    "    (\"Retrieve salary amount and pay date for each employee\", [\"Salaries\", \"Employees\"]),\n",
    "    (\"Get details of employee benefits\", [\"Benefits\", \"Employees\"]),\n",
    "    (\"Show all employees assigned to different projects\", [\"Employees\", \"Projects\"]),\n",
    "    (\"Find all clients along with their associated projects\", [\"Clients\", \"Projects\"]),\n",
    "    (\"Get the names of all clients and their associated department IDs\", [\"Clients\", \"Departments\"]),\n",
    "    (\"List all employees who have benefits along with benefit type\", [\"Employees\", \"Benefits\"]),\n",
    "    (\"Find the total budget allocated for each project\", [\"Projects\"]),\n",
    "    (\"Retrieve project names along with the employees working on them\", [\"Projects\", \"Employees\"]),\n",
    "    (\"Get client names and the projects they are linked to\", [\"Clients\", \"Projects\"]),\n",
    "    (\"List all departments and the employees working in them\", [\"Departments\", \"Employees\"]),\n",
    "    (\"Find out which department a specific client is associated with\", [\"Clients\", \"Departments\"]),\n",
    "    (\"Get all employees along with their salaries and pay dates\", [\"Employees\", \"Salaries\"]),\n",
    "    (\"Show all employees and their assigned projects\", [\"Employees\", \"Projects\"]),\n",
    "    (\"Find employees who are receiving benefits along with benefit details\", [\"Employees\", \"Benefits\"]),\n",
    "    (\"Get employees' salaries along with their positions\", [\"Employees\", \"Salaries\", \"Positions\"]),\n",
    "    (\"Show all projects along with the department they belong to\", [\"Projects\", \"Departments\"]),\n",
    "    (\"Retrieve all employees and their respective salary amounts\", [\"Employees\", \"Salaries\"]),\n",
    "    (\"Get all clients along with their associated projects and departments\", [\"Clients\", \"Projects\", \"Departments\"]),\n",
    "    (\"Retrieve all employees along with their department and position details\", [\"Employees\", \"Departments\", \"Positions\"]),\n",
    "    (\"Get a list of employees with their salaries and the projects they are working on\", [\"Employees\", \"Salaries\", \"Projects\"]),\n",
    "    (\"List all employees along with their assigned projects and associated clients\", [\"Employees\", \"Projects\", \"Clients\"]),\n",
    "    (\"Show all employees, their benefits, and their assigned departments\", [\"Employees\", \"Benefits\", \"Departments\"]),\n",
    "    (\"Find all employees along with their department, salary, and pay date\", [\"Employees\", \"Departments\", \"Salaries\"]),\n",
    "    (\"Retrieve project names, the employees working on them, and their respective departments\", [\"Projects\", \"Employees\", \"Departments\"]),\n",
    "    (\"List all positions along with employees holding them and their salary details\", [\"Positions\", \"Employees\", \"Salaries\"]),\n",
    "    #(\"Get all employees who have benefits, their salary details, and their department\", [\"Employees\", \"Benefits\", \"Departments\", \"Salaries\"]),\n",
    "    (\"Show all projects along with their budgets and the employees assigned to them\", [\"Projects\", \"Employees\", \"Salaries\"]),\n",
    "    (\"Retrieve clients along with their associated projects and the employees working on those projects\", [\"Clients\", \"Projects\", \"Employees\"]),\n",
    "    #(\"Find all employees along with their assigned department, projects, and salaries\", [\"Employees\", \"Departments\", \"Projects\", \"Salaries\"]),\n",
    "    (\"List all clients along with the projects they are funding and the employees working on those projects\", [\"Clients\", \"Projects\", \"Employees\"]),\n",
    "    #(\"Get details of employees who have benefits along with their salaries and project assignments\", [\"Employees\", \"Benefits\", \"Salaries\", \"Projects\"]),\n",
    "    #(\"Retrieve all projects along with their assigned employees, department, and clients\", [\"Projects\", \"Employees\", \"Departments\", \"Clients\"]),\n",
    "    #(\"Find employees working on projects along with their department and assigned salary details\", [\"Employees\", \"Projects\", \"Departments\", \"Salaries\"]),\n",
    "    (\"List down all employees, their positions, and the benefits they receive\", [\"Employees\", \"Positions\", \"Benefits\"]),\n",
    "    (\"Retrieve employees along with their associated clients through project assignments\", [\"Employees\", \"Projects\", \"Clients\"]),\n",
    "    (\"Find the departments, projects, and clients associated with each employee\", [\"Departments\", \"Projects\", \"Clients\", \"Employees\"]),\n",
    "    (\"Get all projects along with their allocated budget, department, and assigned employees\", [\"Projects\", \"Departments\", \"Employees\"]),\n",
    "    (\"Retrieve clients, their associated departments, and the employees handling their projects\", [\"Clients\", \"Departments\", \"Employees\"]),\n",
    "    (\"Show all departments along with their employees and the benefits those employees receive\", [\"Departments\", \"Employees\", \"Benefits\"]),\n",
    "    (\"List all employees and their complete salary history, including pay dates\", [\"Employees\", \"Salaries\"]),\n",
    "    #(\"Retrieve all projects with employees assigned, their department, and respective salaries\", [\"Projects\", \"Employees\", \"Departments\", \"Salaries\"]),\n",
    "    #(\"Get all employees with their assigned clients, salary details, and department\", [\"Employees\", \"Clients\", \"Salaries\", \"Departments\"]),\n",
    "    (\"Find all clients with their associated projects and the budget allocated for those projects\", [\"Clients\", \"Projects\"]),\n",
    "    #(\"Show employees along with their department, salary, and the clients they interact with\", [\"Employees\", \"Departments\", \"Salaries\", \"Clients\"]),\n",
    "    #(\"Retrieve employees and their salary details along with the projects they are working on\", [\"Employees\", \"Salaries\", \"Projects\"]),\n",
    "    #(\"Find projects along with their department, clients funding them, and assigned employees\", [\"Projects\", \"Departments\", \"Clients\", \"Employees\"]),\n",
    "    (\"Get details of employees working under different departments and handling multiple projects\", [\"Employees\", \"Departments\", \"Projects\"]),\n",
    "    (\"List all employees along with their salaries, positions, and associated clients\", [\"Employees\", \"Salaries\", \"Positions\", \"Clients\"]),\n",
    "    (\"Show all projects with their respective budget allocations, departments, and assigned employees\", [\"Projects\", \"Departments\", \"Employees\"]),\n",
    "    (\"Retrieve employees, their salaries, and the clients they have worked with through different projects\", [\"Employees\", \"Salaries\", \"Clients\"]),\n",
    "    #(\"Find employees, their department, and the benefits they receive under specific projects\", [\"Employees\", \"Departments\", \"Benefits\", \"Projects\"]),\n",
    "    (\"List down all employees, their salaries, and the clients they have interacted with\", [\"Employees\", \"Salaries\", \"Clients\"]),\n",
    "    #(\"Get all employees and their respective department, project assignments, and salaries\", [\"Employees\", \"Departments\", \"Projects\", \"Salaries\"]),\n",
    "    (\"Retrieve all departments, their associated employees, and the projects being handled by them\", [\"Departments\", \"Employees\", \"Projects\"]),\n",
    "    (\"Find all projects, their allocated budgets, and the employees assigned to them along with their department\", [\"Projects\", \"Employees\", \"Departments\"]),\n",
    "    (\"List all clients along with the projects they are funding and the employees handling those projects\", [\"Clients\", \"Projects\", \"Employees\"]),\n",
    "    #(\"Retrieve employees and their salary details along with the projects they are handling and their positions\", [\"Employees\", \"Salaries\", \"Projects\", \"Positions\"]),\n",
    "    #(\"Get all employees, their department, assigned projects, and the clients they work with\", [\"Employees\", \"Departments\", \"Projects\", \"Clients\"]),\n",
    "    (\"Show projects with their allocated budgets, the clients funding them, and the employees working on them\", [\"Projects\", \"Clients\", \"Employees\"]),\n",
    "    #(\"Find employees along with their salaries and the projects they are working on in different departments\", [\"Employees\", \"Salaries\", \"Projects\", \"Departments\"]),\n",
    "    #(\"Retrieve employees, their departments, and their respective positions along with their salary details\", [\"Employees\", \"Departments\", \"Positions\", \"Salaries\"]),\n",
    "    #(\"List down employees, their department, project assignments, and the clients they interact with\", [\"Employees\", \"Departments\", \"Projects\", \"Clients\"]),\n",
    "    #(\"Get details of employees working on different projects, their salaries, and department details\", [\"Employees\", \"Projects\", \"Salaries\", \"Departments\"]),\n",
    "    #(\"Retrieve all employees with their associated benefits, salaries, and project assignments\", [\"Employees\", \"Benefits\", \"Salaries\", \"Projects\"]),\n",
    "    #(\"List all projects, their allocated budgets, the departments handling them, and assigned employees\", [\"Projects\", \"Departments\", \"Employees\"]),\n",
    "    #(\"Find employees who have worked with multiple clients, their salary details, and department\", [\"Employees\", \"Clients\", \"Salaries\", \"Departments\"]),\n",
    "    (\"Retrieve all employee names\", [\"Employees\"]),\n",
    "    (\"List all department names\", [\"Departments\"]),\n",
    "    (\"Get all position titles\", [\"Positions\"]),\n",
    "    (\"Show all salaries and pay dates\", [\"Salaries\"]),\n",
    "    (\"Find all employee benefits\", [\"Benefits\"]),\n",
    "    (\"List all projects\", [\"Projects\"]),\n",
    "    (\"Retrieve all client names\", [\"Clients\"]),\n",
    "    (\"Find all employee IDs\", [\"Employees\"]),\n",
    "    (\"Show all salary amounts\", [\"Salaries\"]),\n",
    "    (\"Get a list of project budgets\", [\"Projects\"]),\n",
    "    (\"Retrieve all department IDs\", [\"Departments\"]),\n",
    "    (\"Show all project names\", [\"Projects\"]),\n",
    "    (\"Find all positions and their IDs\", [\"Positions\"]),\n",
    "    (\"Get all benefit types available\", [\"Benefits\"]),\n",
    "    (\"Show all clients and their IDs\", [\"Clients\"]),\n",
    "    (\"Retrieve all employees hired before a certain date\", [\"Employees\"]),\n",
    "    (\"List all salaries above a specific amount\", [\"Salaries\"]),\n",
    "    (\"Find all projects with a budget greater than 50,000\", [\"Projects\"]),\n",
    "    (\"Get all employees who receive benefits\", [\"Employees\"]),\n",
    "    (\"Retrieve all positions with a salary grade\", [\"Positions\"]),\n",
    "    (\"Retrieve all employees along with their department names\", [\"Employees\", \"Departments\"]),\n",
    "    (\"Get all employees and their assigned positions\", [\"Employees\", \"Positions\"]),\n",
    "    (\"Find all employees along with their salaries and pay dates\", [\"Employees\", \"Salaries\"]),\n",
    "    (\"Show employees and the projects they are assigned to\", [\"Employees\", \"Projects\"]),\n",
    "    (\"List all departments and the employees working in them\", [\"Departments\", \"Employees\"]),\n",
    "    (\"Retrieve projects and the employees working on them\", [\"Projects\", \"Employees\"]),\n",
    "    (\"Find clients and their associated projects\", [\"Clients\", \"Projects\"]),\n",
    "    (\"Get employees and their assigned benefits\", [\"Employees\", \"Benefits\"]),\n",
    "    (\"Show employees and the departments they belong to\", [\"Employees\", \"Departments\"]),\n",
    "    (\"Retrieve all employees and their assigned projects along with project budgets\", [\"Employees\", \"Projects\"]),\n",
    "    (\"Find employees who have salaries and benefits\", [\"Employees\", \"Salaries\", \"Benefits\"]),\n",
    "    (\"List all positions along with the employees holding them\", [\"Positions\", \"Employees\"]),\n",
    "    (\"Get projects, their budgets, and assigned employees\", [\"Projects\", \"Employees\", \"Salaries\"]),\n",
    "    (\"Retrieve all clients along with their projects and departments\", [\"Clients\", \"Projects\", \"Departments\"]),\n",
    "    (\"Find employees who have received benefits and their department\", [\"Employees\", \"Benefits\", \"Departments\"]),\n",
    "    (\"Show clients, their associated projects, and employees assigned to those projects\", [\"Clients\", \"Projects\", \"Employees\"]),\n",
    "    (\"Retrieve all employees, their salaries, and their positions\", [\"Employees\", \"Salaries\", \"Positions\"]),\n",
    "    (\"List employees and the clients they interact with\", [\"Employees\", \"Clients\"]),\n",
    "    (\"Get projects along with the employees working on them and their salaries\", [\"Projects\", \"Employees\", \"Salaries\"]),\n",
    "    (\"Find employees, their departments, and their benefits\", [\"Employees\", \"Departments\", \"Benefits\"]),\n",
    "    (\"Find the weather forecast for tomorrow\", []),\n",
    "    (\"Retrieve a list of available car rentals\", []),\n",
    "    (\"Show me the latest stock market trends\", []),\n",
    "    (\"Find the nearest hospitals\", []),\n",
    "    (\"Get the latest news headlines\", []),\n",
    "    (\"Show me the best restaurants in town\", []),\n",
    "    (\"Retrieve football match results\", []),\n",
    "    (\"Find the top 10 best-selling books\", []),\n",
    "    (\"List all flight schedules from New York to London\", []),\n",
    "    (\"Get today's exchange rate for USD to EUR\", []),\n",
    "    (\"Retrieve customer reviews for iPhone 15\", []),\n",
    "    (\"Find the best hiking trails near me\", []),\n",
    "    (\"Show me the top trending movies\", []),\n",
    "    (\"List all upcoming concerts in my city\", []),\n",
    "    (\"Get a history of Bitcoin prices\", []),\n",
    "    (\"Find the current fuel prices\", []),\n",
    "    (\"Retrieve the warranty status of my laptop\", []),\n",
    "    (\"Get step-by-step cooking recipes\", []),\n",
    "    (\"Find out the meaning of life\", []),\n",
    "    (\"Retrieve medical records of a specific patient\", []),\n",
    "    (\"Find the schedule of online yoga classes\", []),\n",
    "    (\"Get a list of government policies on climate change\", []),\n",
    "    (\"Retrieve customer complaints about a telecom provider\", []),\n",
    "    (\"Find all tweets related to artificial intelligence\", []),\n",
    "    (\"Show me the horoscope for today\", []),\n",
    "    (\"Get the latest NBA scores\", []),\n",
    "    (\"Find the crime rate statistics for a city\", []),\n",
    "    (\"Retrieve movie showtimes for this weekend\", []),\n",
    "    (\"Find online courses for machine learning\", []),\n",
    "    (\"Get a summary of the latest scientific research\", []),\n",
    "    (\"Find recommendations for a new car\", []),\n",
    "    (\"List all available job openings in cybersecurity\", []),\n",
    "    (\"Retrieve the latest trends in fashion\", []),\n",
    "    (\"Get the recipe for a vegan lasagna\", []),\n",
    "    (\"Find the symptoms of flu\", []),\n",
    "    (\"Retrieve information about space missions\", []),\n",
    "    (\"List all countries that have launched satellites\", []),\n",
    "    (\"Find the number of COVID-19 cases worldwide\", []),\n",
    "    (\"Show me a list of free online coding bootcamps\", []),\n",
    "    (\"Get the latest economic recession analysis\", []),\n",
    "    (\"Retrieve a list of famous philosophers\", []),\n",
    "    (\"Find the historical timeline of World War II\", []),\n",
    "    (\"Get recommendations for the best sci-fi novels\", []),\n",
    "    (\"Retrieve the list of Grammy Award winners\", []),\n",
    "    (\"Find the top-ranked universities for engineering\", []),\n",
    "    (\"Get details on how to register a new business\", []),\n",
    "    (\"Retrieve information about the history of the Olympics\", []),\n",
    "    (\"Find courses to learn sign language\", []),\n",
    "    (\"Show me the current best-selling mobile phones\", []),\n",
    "    (\"Retrieve a list of famous paintings and their artists\", [])\n",
    "\n",
    "]\n"
   ]
  },
  {
   "cell_type": "code",
   "execution_count": 22,
   "metadata": {},
   "outputs": [
    {
     "data": {
      "text/plain": [
       "141"
      ]
     },
     "execution_count": 22,
     "metadata": {},
     "output_type": "execute_result"
    }
   ],
   "source": [
    "#number of training samples\n",
    "len(query_table_mapping)"
   ]
  },
  {
   "cell_type": "code",
   "execution_count": 23,
   "metadata": {},
   "outputs": [],
   "source": [
    "from sklearn.preprocessing import MultiLabelBinarizer\n",
    "from sklearn.model_selection import train_test_split"
   ]
  },
  {
   "cell_type": "code",
   "execution_count": 24,
   "metadata": {},
   "outputs": [
    {
     "data": {
      "text/html": [
       "<style>#sk-container-id-1 {\n",
       "  /* Definition of color scheme common for light and dark mode */\n",
       "  --sklearn-color-text: #000;\n",
       "  --sklearn-color-text-muted: #666;\n",
       "  --sklearn-color-line: gray;\n",
       "  /* Definition of color scheme for unfitted estimators */\n",
       "  --sklearn-color-unfitted-level-0: #fff5e6;\n",
       "  --sklearn-color-unfitted-level-1: #f6e4d2;\n",
       "  --sklearn-color-unfitted-level-2: #ffe0b3;\n",
       "  --sklearn-color-unfitted-level-3: chocolate;\n",
       "  /* Definition of color scheme for fitted estimators */\n",
       "  --sklearn-color-fitted-level-0: #f0f8ff;\n",
       "  --sklearn-color-fitted-level-1: #d4ebff;\n",
       "  --sklearn-color-fitted-level-2: #b3dbfd;\n",
       "  --sklearn-color-fitted-level-3: cornflowerblue;\n",
       "\n",
       "  /* Specific color for light theme */\n",
       "  --sklearn-color-text-on-default-background: var(--sg-text-color, var(--theme-code-foreground, var(--jp-content-font-color1, black)));\n",
       "  --sklearn-color-background: var(--sg-background-color, var(--theme-background, var(--jp-layout-color0, white)));\n",
       "  --sklearn-color-border-box: var(--sg-text-color, var(--theme-code-foreground, var(--jp-content-font-color1, black)));\n",
       "  --sklearn-color-icon: #696969;\n",
       "\n",
       "  @media (prefers-color-scheme: dark) {\n",
       "    /* Redefinition of color scheme for dark theme */\n",
       "    --sklearn-color-text-on-default-background: var(--sg-text-color, var(--theme-code-foreground, var(--jp-content-font-color1, white)));\n",
       "    --sklearn-color-background: var(--sg-background-color, var(--theme-background, var(--jp-layout-color0, #111)));\n",
       "    --sklearn-color-border-box: var(--sg-text-color, var(--theme-code-foreground, var(--jp-content-font-color1, white)));\n",
       "    --sklearn-color-icon: #878787;\n",
       "  }\n",
       "}\n",
       "\n",
       "#sk-container-id-1 {\n",
       "  color: var(--sklearn-color-text);\n",
       "}\n",
       "\n",
       "#sk-container-id-1 pre {\n",
       "  padding: 0;\n",
       "}\n",
       "\n",
       "#sk-container-id-1 input.sk-hidden--visually {\n",
       "  border: 0;\n",
       "  clip: rect(1px 1px 1px 1px);\n",
       "  clip: rect(1px, 1px, 1px, 1px);\n",
       "  height: 1px;\n",
       "  margin: -1px;\n",
       "  overflow: hidden;\n",
       "  padding: 0;\n",
       "  position: absolute;\n",
       "  width: 1px;\n",
       "}\n",
       "\n",
       "#sk-container-id-1 div.sk-dashed-wrapped {\n",
       "  border: 1px dashed var(--sklearn-color-line);\n",
       "  margin: 0 0.4em 0.5em 0.4em;\n",
       "  box-sizing: border-box;\n",
       "  padding-bottom: 0.4em;\n",
       "  background-color: var(--sklearn-color-background);\n",
       "}\n",
       "\n",
       "#sk-container-id-1 div.sk-container {\n",
       "  /* jupyter's `normalize.less` sets `[hidden] { display: none; }`\n",
       "     but bootstrap.min.css set `[hidden] { display: none !important; }`\n",
       "     so we also need the `!important` here to be able to override the\n",
       "     default hidden behavior on the sphinx rendered scikit-learn.org.\n",
       "     See: https://github.com/scikit-learn/scikit-learn/issues/21755 */\n",
       "  display: inline-block !important;\n",
       "  position: relative;\n",
       "}\n",
       "\n",
       "#sk-container-id-1 div.sk-text-repr-fallback {\n",
       "  display: none;\n",
       "}\n",
       "\n",
       "div.sk-parallel-item,\n",
       "div.sk-serial,\n",
       "div.sk-item {\n",
       "  /* draw centered vertical line to link estimators */\n",
       "  background-image: linear-gradient(var(--sklearn-color-text-on-default-background), var(--sklearn-color-text-on-default-background));\n",
       "  background-size: 2px 100%;\n",
       "  background-repeat: no-repeat;\n",
       "  background-position: center center;\n",
       "}\n",
       "\n",
       "/* Parallel-specific style estimator block */\n",
       "\n",
       "#sk-container-id-1 div.sk-parallel-item::after {\n",
       "  content: \"\";\n",
       "  width: 100%;\n",
       "  border-bottom: 2px solid var(--sklearn-color-text-on-default-background);\n",
       "  flex-grow: 1;\n",
       "}\n",
       "\n",
       "#sk-container-id-1 div.sk-parallel {\n",
       "  display: flex;\n",
       "  align-items: stretch;\n",
       "  justify-content: center;\n",
       "  background-color: var(--sklearn-color-background);\n",
       "  position: relative;\n",
       "}\n",
       "\n",
       "#sk-container-id-1 div.sk-parallel-item {\n",
       "  display: flex;\n",
       "  flex-direction: column;\n",
       "}\n",
       "\n",
       "#sk-container-id-1 div.sk-parallel-item:first-child::after {\n",
       "  align-self: flex-end;\n",
       "  width: 50%;\n",
       "}\n",
       "\n",
       "#sk-container-id-1 div.sk-parallel-item:last-child::after {\n",
       "  align-self: flex-start;\n",
       "  width: 50%;\n",
       "}\n",
       "\n",
       "#sk-container-id-1 div.sk-parallel-item:only-child::after {\n",
       "  width: 0;\n",
       "}\n",
       "\n",
       "/* Serial-specific style estimator block */\n",
       "\n",
       "#sk-container-id-1 div.sk-serial {\n",
       "  display: flex;\n",
       "  flex-direction: column;\n",
       "  align-items: center;\n",
       "  background-color: var(--sklearn-color-background);\n",
       "  padding-right: 1em;\n",
       "  padding-left: 1em;\n",
       "}\n",
       "\n",
       "\n",
       "/* Toggleable style: style used for estimator/Pipeline/ColumnTransformer box that is\n",
       "clickable and can be expanded/collapsed.\n",
       "- Pipeline and ColumnTransformer use this feature and define the default style\n",
       "- Estimators will overwrite some part of the style using the `sk-estimator` class\n",
       "*/\n",
       "\n",
       "/* Pipeline and ColumnTransformer style (default) */\n",
       "\n",
       "#sk-container-id-1 div.sk-toggleable {\n",
       "  /* Default theme specific background. It is overwritten whether we have a\n",
       "  specific estimator or a Pipeline/ColumnTransformer */\n",
       "  background-color: var(--sklearn-color-background);\n",
       "}\n",
       "\n",
       "/* Toggleable label */\n",
       "#sk-container-id-1 label.sk-toggleable__label {\n",
       "  cursor: pointer;\n",
       "  display: flex;\n",
       "  width: 100%;\n",
       "  margin-bottom: 0;\n",
       "  padding: 0.5em;\n",
       "  box-sizing: border-box;\n",
       "  text-align: center;\n",
       "  align-items: start;\n",
       "  justify-content: space-between;\n",
       "  gap: 0.5em;\n",
       "}\n",
       "\n",
       "#sk-container-id-1 label.sk-toggleable__label .caption {\n",
       "  font-size: 0.6rem;\n",
       "  font-weight: lighter;\n",
       "  color: var(--sklearn-color-text-muted);\n",
       "}\n",
       "\n",
       "#sk-container-id-1 label.sk-toggleable__label-arrow:before {\n",
       "  /* Arrow on the left of the label */\n",
       "  content: \"▸\";\n",
       "  float: left;\n",
       "  margin-right: 0.25em;\n",
       "  color: var(--sklearn-color-icon);\n",
       "}\n",
       "\n",
       "#sk-container-id-1 label.sk-toggleable__label-arrow:hover:before {\n",
       "  color: var(--sklearn-color-text);\n",
       "}\n",
       "\n",
       "/* Toggleable content - dropdown */\n",
       "\n",
       "#sk-container-id-1 div.sk-toggleable__content {\n",
       "  max-height: 0;\n",
       "  max-width: 0;\n",
       "  overflow: hidden;\n",
       "  text-align: left;\n",
       "  /* unfitted */\n",
       "  background-color: var(--sklearn-color-unfitted-level-0);\n",
       "}\n",
       "\n",
       "#sk-container-id-1 div.sk-toggleable__content.fitted {\n",
       "  /* fitted */\n",
       "  background-color: var(--sklearn-color-fitted-level-0);\n",
       "}\n",
       "\n",
       "#sk-container-id-1 div.sk-toggleable__content pre {\n",
       "  margin: 0.2em;\n",
       "  border-radius: 0.25em;\n",
       "  color: var(--sklearn-color-text);\n",
       "  /* unfitted */\n",
       "  background-color: var(--sklearn-color-unfitted-level-0);\n",
       "}\n",
       "\n",
       "#sk-container-id-1 div.sk-toggleable__content.fitted pre {\n",
       "  /* unfitted */\n",
       "  background-color: var(--sklearn-color-fitted-level-0);\n",
       "}\n",
       "\n",
       "#sk-container-id-1 input.sk-toggleable__control:checked~div.sk-toggleable__content {\n",
       "  /* Expand drop-down */\n",
       "  max-height: 200px;\n",
       "  max-width: 100%;\n",
       "  overflow: auto;\n",
       "}\n",
       "\n",
       "#sk-container-id-1 input.sk-toggleable__control:checked~label.sk-toggleable__label-arrow:before {\n",
       "  content: \"▾\";\n",
       "}\n",
       "\n",
       "/* Pipeline/ColumnTransformer-specific style */\n",
       "\n",
       "#sk-container-id-1 div.sk-label input.sk-toggleable__control:checked~label.sk-toggleable__label {\n",
       "  color: var(--sklearn-color-text);\n",
       "  background-color: var(--sklearn-color-unfitted-level-2);\n",
       "}\n",
       "\n",
       "#sk-container-id-1 div.sk-label.fitted input.sk-toggleable__control:checked~label.sk-toggleable__label {\n",
       "  background-color: var(--sklearn-color-fitted-level-2);\n",
       "}\n",
       "\n",
       "/* Estimator-specific style */\n",
       "\n",
       "/* Colorize estimator box */\n",
       "#sk-container-id-1 div.sk-estimator input.sk-toggleable__control:checked~label.sk-toggleable__label {\n",
       "  /* unfitted */\n",
       "  background-color: var(--sklearn-color-unfitted-level-2);\n",
       "}\n",
       "\n",
       "#sk-container-id-1 div.sk-estimator.fitted input.sk-toggleable__control:checked~label.sk-toggleable__label {\n",
       "  /* fitted */\n",
       "  background-color: var(--sklearn-color-fitted-level-2);\n",
       "}\n",
       "\n",
       "#sk-container-id-1 div.sk-label label.sk-toggleable__label,\n",
       "#sk-container-id-1 div.sk-label label {\n",
       "  /* The background is the default theme color */\n",
       "  color: var(--sklearn-color-text-on-default-background);\n",
       "}\n",
       "\n",
       "/* On hover, darken the color of the background */\n",
       "#sk-container-id-1 div.sk-label:hover label.sk-toggleable__label {\n",
       "  color: var(--sklearn-color-text);\n",
       "  background-color: var(--sklearn-color-unfitted-level-2);\n",
       "}\n",
       "\n",
       "/* Label box, darken color on hover, fitted */\n",
       "#sk-container-id-1 div.sk-label.fitted:hover label.sk-toggleable__label.fitted {\n",
       "  color: var(--sklearn-color-text);\n",
       "  background-color: var(--sklearn-color-fitted-level-2);\n",
       "}\n",
       "\n",
       "/* Estimator label */\n",
       "\n",
       "#sk-container-id-1 div.sk-label label {\n",
       "  font-family: monospace;\n",
       "  font-weight: bold;\n",
       "  display: inline-block;\n",
       "  line-height: 1.2em;\n",
       "}\n",
       "\n",
       "#sk-container-id-1 div.sk-label-container {\n",
       "  text-align: center;\n",
       "}\n",
       "\n",
       "/* Estimator-specific */\n",
       "#sk-container-id-1 div.sk-estimator {\n",
       "  font-family: monospace;\n",
       "  border: 1px dotted var(--sklearn-color-border-box);\n",
       "  border-radius: 0.25em;\n",
       "  box-sizing: border-box;\n",
       "  margin-bottom: 0.5em;\n",
       "  /* unfitted */\n",
       "  background-color: var(--sklearn-color-unfitted-level-0);\n",
       "}\n",
       "\n",
       "#sk-container-id-1 div.sk-estimator.fitted {\n",
       "  /* fitted */\n",
       "  background-color: var(--sklearn-color-fitted-level-0);\n",
       "}\n",
       "\n",
       "/* on hover */\n",
       "#sk-container-id-1 div.sk-estimator:hover {\n",
       "  /* unfitted */\n",
       "  background-color: var(--sklearn-color-unfitted-level-2);\n",
       "}\n",
       "\n",
       "#sk-container-id-1 div.sk-estimator.fitted:hover {\n",
       "  /* fitted */\n",
       "  background-color: var(--sklearn-color-fitted-level-2);\n",
       "}\n",
       "\n",
       "/* Specification for estimator info (e.g. \"i\" and \"?\") */\n",
       "\n",
       "/* Common style for \"i\" and \"?\" */\n",
       "\n",
       ".sk-estimator-doc-link,\n",
       "a:link.sk-estimator-doc-link,\n",
       "a:visited.sk-estimator-doc-link {\n",
       "  float: right;\n",
       "  font-size: smaller;\n",
       "  line-height: 1em;\n",
       "  font-family: monospace;\n",
       "  background-color: var(--sklearn-color-background);\n",
       "  border-radius: 1em;\n",
       "  height: 1em;\n",
       "  width: 1em;\n",
       "  text-decoration: none !important;\n",
       "  margin-left: 0.5em;\n",
       "  text-align: center;\n",
       "  /* unfitted */\n",
       "  border: var(--sklearn-color-unfitted-level-1) 1pt solid;\n",
       "  color: var(--sklearn-color-unfitted-level-1);\n",
       "}\n",
       "\n",
       ".sk-estimator-doc-link.fitted,\n",
       "a:link.sk-estimator-doc-link.fitted,\n",
       "a:visited.sk-estimator-doc-link.fitted {\n",
       "  /* fitted */\n",
       "  border: var(--sklearn-color-fitted-level-1) 1pt solid;\n",
       "  color: var(--sklearn-color-fitted-level-1);\n",
       "}\n",
       "\n",
       "/* On hover */\n",
       "div.sk-estimator:hover .sk-estimator-doc-link:hover,\n",
       ".sk-estimator-doc-link:hover,\n",
       "div.sk-label-container:hover .sk-estimator-doc-link:hover,\n",
       ".sk-estimator-doc-link:hover {\n",
       "  /* unfitted */\n",
       "  background-color: var(--sklearn-color-unfitted-level-3);\n",
       "  color: var(--sklearn-color-background);\n",
       "  text-decoration: none;\n",
       "}\n",
       "\n",
       "div.sk-estimator.fitted:hover .sk-estimator-doc-link.fitted:hover,\n",
       ".sk-estimator-doc-link.fitted:hover,\n",
       "div.sk-label-container:hover .sk-estimator-doc-link.fitted:hover,\n",
       ".sk-estimator-doc-link.fitted:hover {\n",
       "  /* fitted */\n",
       "  background-color: var(--sklearn-color-fitted-level-3);\n",
       "  color: var(--sklearn-color-background);\n",
       "  text-decoration: none;\n",
       "}\n",
       "\n",
       "/* Span, style for the box shown on hovering the info icon */\n",
       ".sk-estimator-doc-link span {\n",
       "  display: none;\n",
       "  z-index: 9999;\n",
       "  position: relative;\n",
       "  font-weight: normal;\n",
       "  right: .2ex;\n",
       "  padding: .5ex;\n",
       "  margin: .5ex;\n",
       "  width: min-content;\n",
       "  min-width: 20ex;\n",
       "  max-width: 50ex;\n",
       "  color: var(--sklearn-color-text);\n",
       "  box-shadow: 2pt 2pt 4pt #999;\n",
       "  /* unfitted */\n",
       "  background: var(--sklearn-color-unfitted-level-0);\n",
       "  border: .5pt solid var(--sklearn-color-unfitted-level-3);\n",
       "}\n",
       "\n",
       ".sk-estimator-doc-link.fitted span {\n",
       "  /* fitted */\n",
       "  background: var(--sklearn-color-fitted-level-0);\n",
       "  border: var(--sklearn-color-fitted-level-3);\n",
       "}\n",
       "\n",
       ".sk-estimator-doc-link:hover span {\n",
       "  display: block;\n",
       "}\n",
       "\n",
       "/* \"?\"-specific style due to the `<a>` HTML tag */\n",
       "\n",
       "#sk-container-id-1 a.estimator_doc_link {\n",
       "  float: right;\n",
       "  font-size: 1rem;\n",
       "  line-height: 1em;\n",
       "  font-family: monospace;\n",
       "  background-color: var(--sklearn-color-background);\n",
       "  border-radius: 1rem;\n",
       "  height: 1rem;\n",
       "  width: 1rem;\n",
       "  text-decoration: none;\n",
       "  /* unfitted */\n",
       "  color: var(--sklearn-color-unfitted-level-1);\n",
       "  border: var(--sklearn-color-unfitted-level-1) 1pt solid;\n",
       "}\n",
       "\n",
       "#sk-container-id-1 a.estimator_doc_link.fitted {\n",
       "  /* fitted */\n",
       "  border: var(--sklearn-color-fitted-level-1) 1pt solid;\n",
       "  color: var(--sklearn-color-fitted-level-1);\n",
       "}\n",
       "\n",
       "/* On hover */\n",
       "#sk-container-id-1 a.estimator_doc_link:hover {\n",
       "  /* unfitted */\n",
       "  background-color: var(--sklearn-color-unfitted-level-3);\n",
       "  color: var(--sklearn-color-background);\n",
       "  text-decoration: none;\n",
       "}\n",
       "\n",
       "#sk-container-id-1 a.estimator_doc_link.fitted:hover {\n",
       "  /* fitted */\n",
       "  background-color: var(--sklearn-color-fitted-level-3);\n",
       "}\n",
       "</style><div id=\"sk-container-id-1\" class=\"sk-top-container\"><div class=\"sk-text-repr-fallback\"><pre>MultiLabelBinarizer(classes=[&#x27;Employees&#x27;, &#x27;Departments&#x27;, &#x27;Positions&#x27;,\n",
       "                             &#x27;Salaries&#x27;, &#x27;Benefits&#x27;, &#x27;Projects&#x27;, &#x27;Clients&#x27;])</pre><b>In a Jupyter environment, please rerun this cell to show the HTML representation or trust the notebook. <br />On GitHub, the HTML representation is unable to render, please try loading this page with nbviewer.org.</b></div><div class=\"sk-container\" hidden><div class=\"sk-item\"><div class=\"sk-estimator fitted sk-toggleable\"><input class=\"sk-toggleable__control sk-hidden--visually\" id=\"sk-estimator-id-1\" type=\"checkbox\" checked><label for=\"sk-estimator-id-1\" class=\"sk-toggleable__label fitted sk-toggleable__label-arrow\"><div><div>MultiLabelBinarizer</div></div><div><a class=\"sk-estimator-doc-link fitted\" rel=\"noreferrer\" target=\"_blank\" href=\"https://scikit-learn.org/1.6/modules/generated/sklearn.preprocessing.MultiLabelBinarizer.html\">?<span>Documentation for MultiLabelBinarizer</span></a><span class=\"sk-estimator-doc-link fitted\">i<span>Fitted</span></span></div></label><div class=\"sk-toggleable__content fitted\"><pre>MultiLabelBinarizer(classes=[&#x27;Employees&#x27;, &#x27;Departments&#x27;, &#x27;Positions&#x27;,\n",
       "                             &#x27;Salaries&#x27;, &#x27;Benefits&#x27;, &#x27;Projects&#x27;, &#x27;Clients&#x27;])</pre></div> </div></div></div></div>"
      ],
      "text/plain": [
       "MultiLabelBinarizer(classes=['Employees', 'Departments', 'Positions',\n",
       "                             'Salaries', 'Benefits', 'Projects', 'Clients'])"
      ]
     },
     "execution_count": 24,
     "metadata": {},
     "output_type": "execute_result"
    }
   ],
   "source": [
    "X_queries, y_tables = [], []\n",
    "mlb = MultiLabelBinarizer(classes=table_names)\n",
    "mlb.fit([table_names])"
   ]
  },
  {
   "cell_type": "code",
   "execution_count": 25,
   "metadata": {},
   "outputs": [],
   "source": [
    "for query, tables in query_table_mapping:\n",
    "    X_queries.append(encode_text(query))\n",
    "    y_tables.append(mlb.transform([tables])[0])"
   ]
  },
  {
   "cell_type": "code",
   "execution_count": 26,
   "metadata": {},
   "outputs": [
    {
     "name": "stderr",
     "output_type": "stream",
     "text": [
      "C:\\Users\\SPSOFT\\AppData\\Local\\Temp\\ipykernel_9316\\460438490.py:2: UserWarning: Creating a tensor from a list of numpy.ndarrays is extremely slow. Please consider converting the list to a single numpy.ndarray with numpy.array() before converting to a tensor. (Triggered internally at C:\\actions-runner\\_work\\pytorch\\pytorch\\pytorch\\torch\\csrc\\utils\\tensor_new.cpp:257.)\n",
      "  y_tables = torch.tensor(y_tables, dtype=torch.float).to(device)\n"
     ]
    }
   ],
   "source": [
    "X_queries = torch.stack(X_queries).to(device)\n",
    "y_tables = torch.tensor(y_tables, dtype=torch.float).to(device)"
   ]
  },
  {
   "cell_type": "code",
   "execution_count": 27,
   "metadata": {},
   "outputs": [],
   "source": [
    "X_train, X_val, y_train, y_val = train_test_split(\n",
    "    X_queries, y_tables, test_size=0.3, random_state=42\n",
    ")"
   ]
  },
  {
   "cell_type": "code",
   "execution_count": 28,
   "metadata": {},
   "outputs": [],
   "source": [
    "from torch.utils.data import DataLoader, TensorDataset"
   ]
  },
  {
   "cell_type": "code",
   "execution_count": 29,
   "metadata": {},
   "outputs": [],
   "source": [
    "train_loader = DataLoader(TensorDataset(X_train, y_train), batch_size=16, shuffle=True)"
   ]
  },
  {
   "cell_type": "code",
   "execution_count": 30,
   "metadata": {},
   "outputs": [],
   "source": [
    "hidden_dim = 128\n",
    "model = QueryTableMatcher(\n",
    "    query_dim=X_queries.shape[1],\n",
    "    table_dim=table_features.shape[1],\n",
    "    hidden_dim=hidden_dim,\n",
    "    output_dim=len(schema)\n",
    ").to(device)\n"
   ]
  },
  {
   "cell_type": "code",
   "execution_count": 31,
   "metadata": {},
   "outputs": [],
   "source": [
    "criterion = torch.nn.BCELoss()\n",
    "optimizer = torch.optim.Adam(model.parameters(), lr=0.001, weight_decay=1e-5)"
   ]
  },
  {
   "cell_type": "code",
   "execution_count": 32,
   "metadata": {},
   "outputs": [],
   "source": [
    "for epoch in range(300):\n",
    "    model.train()\n",
    "    for batch_X, batch_y in train_loader:\n",
    "        optimizer.zero_grad()\n",
    "        outputs = model(batch_X, table_features, edge_index, edge_weights)\n",
    "        loss = criterion(outputs, batch_y)\n",
    "        loss.backward()\n",
    "        optimizer.step()"
   ]
  },
  {
   "cell_type": "code",
   "execution_count": 33,
   "metadata": {},
   "outputs": [],
   "source": [
    "def predict_tables_for_query(query, threshold=0.3):\n",
    "    query_embedding = encode_text(query).unsqueeze(0)\n",
    "    with torch.no_grad():\n",
    "        table_probs = model(query_embedding, table_features, edge_index, edge_weights)[0]\n",
    "    \n",
    "    relevant_indices = torch.where(table_probs >= threshold)[0]\n",
    "    if len(relevant_indices) == 0:\n",
    "        return []\n",
    "    \n",
    "    return [table_names[idx.item()] for idx in relevant_indices]"
   ]
  },
  {
   "cell_type": "code",
   "execution_count": 34,
   "metadata": {},
   "outputs": [
    {
     "name": "stdout",
     "output_type": "stream",
     "text": [
      "Query: 'list down all departments and the client names.', Tables: ['Departments', 'Projects', 'Clients']\n",
      "['Departments', 'Projects', 'Clients']\n"
     ]
    }
   ],
   "source": [
    "# Testing\n",
    "test_queries = [\"list down all departments and the client names.\"]\n",
    "for query in test_queries:\n",
    "    print(f\"Query: '{query}', Tables: {predict_tables_for_query(query)}\")\n",
    "    print(predict_tables_for_query(query))"
   ]
  },
  {
   "cell_type": "code",
   "execution_count": 35,
   "metadata": {},
   "outputs": [],
   "source": [
    "import os\n",
    "from dotenv import load_dotenv\n",
    "load_dotenv()\n",
    "from langchain_groq import ChatGroq\n",
    "# from langchain_community.chat_models import ChatOllama\n",
    "from langchain_core.prompts import ChatPromptTemplate\n",
    "from langchain_core.output_parsers import StrOutputParser\n",
    "import streamlit as st"
   ]
  },
  {
   "cell_type": "code",
   "execution_count": null,
   "metadata": {},
   "outputs": [],
   "source": [
    "os.environ['Grok_API_KEY']=os.getenv('Grok_API_KEY') # get Groq API key from .env file\n",
    "# Langchain Tracking\n",
    "os.environ['LANGCHAIN_API_KEY'] = os.getenv('LANGCHAIN_API_KEY')  # Fix variable name\n",
    "os.environ['LANGCHAIN_TRACING_V2'] = \"true\"\n",
    "os.environ['LANGCHAIN_PROJECT'] = os.getenv('LANGCHAIN_PROJECT')"
   ]
  },
  {
   "cell_type": "code",
   "execution_count": 37,
   "metadata": {},
   "outputs": [],
   "source": [
    "llm = ChatGroq(model_name=\"llama3-70b-8192\",api_key=os.getenv('Grok_API_KEY'))"
   ]
  },
  {
   "cell_type": "code",
   "execution_count": 40,
   "metadata": {},
   "outputs": [],
   "source": [
    "output = StrOutputParser()"
   ]
  },
  {
   "cell_type": "code",
   "execution_count": 39,
   "metadata": {},
   "outputs": [],
   "source": [
    "prompt_template = ChatPromptTemplate.from_template(\"\"\"\n",
    "You are an SQL expert. Generate an SQL query based on the following:\n",
    "\n",
    "**User Query:** \"{query}\"\n",
    "\n",
    "**Relevant Tables:** {tables_name}\n",
    "\n",
    "**Database Schema:** \n",
    "{schema}\n",
    "\n",
    "**SQL Query Requirements:**\n",
    "- Use correct JOIN conditions based on foreign key relationships.\n",
    "- Select only necessary columns.\n",
    "- Ensure the SQL syntax is correct.\n",
    "\n",
    "Now, generate the SQL query:\n",
    "\"\"\")"
   ]
  },
  {
   "cell_type": "code",
   "execution_count": 41,
   "metadata": {},
   "outputs": [],
   "source": [
    "chain = prompt_template|llm|output"
   ]
  }
 ],
 "metadata": {
  "kernelspec": {
   "display_name": "Python 3",
   "language": "python",
   "name": "python3"
  },
  "language_info": {
   "codemirror_mode": {
    "name": "ipython",
    "version": 3
   },
   "file_extension": ".py",
   "mimetype": "text/x-python",
   "name": "python",
   "nbconvert_exporter": "python",
   "pygments_lexer": "ipython3",
   "version": "3.10.16"
  }
 },
 "nbformat": 4,
 "nbformat_minor": 2
}
